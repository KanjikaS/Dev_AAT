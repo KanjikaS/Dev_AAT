{
 "cells": [
  {
   "cell_type": "code",
   "execution_count": 1,
   "metadata": {},
   "outputs": [],
   "source": [
    "mydict = {'full_prompt': '[{\"role\": \"system\", \"content\": \"You are a bot who doesn\\'t know anything!\"}, {\"role\": \"assistant\", \"content\": \"Hi, my name is Olivia\"}]', 'conversation': '[{\"role\": \"assistant\", \"content\": \"Hi, my name is Olivia\"}]'}\t"
   ]
  },
  {
   "cell_type": "code",
   "execution_count": 7,
   "metadata": {},
   "outputs": [
    {
     "ename": "SyntaxError",
     "evalue": "invalid syntax (3840571219.py, line 1)",
     "output_type": "error",
     "traceback": [
      "\u001b[1;36m  Cell \u001b[1;32mIn[7], line 1\u001b[1;36m\u001b[0m\n\u001b[1;33m    [ERROR] Runtime.UserCodeSyntaxError: Syntax error in module 'lambda_function': invalid syntax (lambda_function.py, line 117) Traceback (most recent call last):   File \"/var/task/lambda_function.py\" Line 117         else:\u001b[0m\n\u001b[1;37m            ^\u001b[0m\n\u001b[1;31mSyntaxError\u001b[0m\u001b[1;31m:\u001b[0m invalid syntax\n"
     ]
    }
   ],
   "source": [
    "[ERROR] Runtime.UserCodeSyntaxError: Syntax error in module 'lambda_function': invalid syntax (lambda_function.py, line 117) Traceback (most recent call last):   File \"/var/task/lambda_function.py\" Line 117         else:\t"
   ]
  },
  {
   "cell_type": "code",
   "execution_count": null,
   "metadata": {},
   "outputs": [],
   "source": [
    "{'Called': '+917011910911', 'CallerCountry': 'US', 'Direction': 'outbound-api', 'SpeechResult': 'Hi, how are you?', 'CallerState': 'TX', 'Language': 'en-US', 'Confidence': '0.69670445', 'CallSid': 'CA299390f51c02b7a2b642152238caf202', 'To': '+917011910911', 'CallerZip': '75234', 'ToCountry': 'IN', 'ApiVersion': '2010-04-01', 'CallStatus': 'in-progress', 'From': '+19728853362', 'AccountSid': 'AC28bdfb8653b61c615c86ad8ba781d389', 'CalledCountry': 'IN', 'CallerCity': 'PALMER', 'FromCountry': 'US', 'Caller': '+19728853362', 'FromCity': 'PALMER', 'FromZip': '75234', 'FromState': 'TX'}\t\n",
    "{'Payload': '{\"resource_sid\":\"CA19385ba54849e0d47ddd7c6029eb1e39\",\"service_sid\":null,\"error_code\":\"12300\",\"more_info\":{\"Msg\":\"Invalid Content-Type\",\"ErrorCode\":\"12300\",\"contentType\":\"application/json\",\"url\":\"https://ztzj42tnsmthrjdg2xdinstwce0zqdqa.lambda-url.us-east-1.on.aws/\",\"LogLevel\":\"ERROR\"},\"webhook\":{\"type\":\"application/json\",\"request\":{\"url\":\"https://ztzj42tnsmthrjdg2xdinstwce0zqdqa.lambda-url.us-east-1.on.aws/\",\"method\":\"POST\",\"headers\":{},\"parameters\":{\"Called\":\"+917011910911\",\"ToState\":\"\",\"CallerCountry\":\"US\",\"Direction\":\"outbound-api\",\"SpeechResult\":\"Hi, how are you?\",\"Language\":\"en-US\",\"CallerState\":\"TX\",\"Confidence\":\"0.81379306\",\"ToZip\":\"\",\"To\":\"+917011910911\",\"CallSid\":\"CA19385ba54849e0d47ddd7c6029eb1e39\",\"ToCountry\":\"IN\",\"CallerZip\":\"75234\",\"ApiVersion\":\"2010-04-01\",\"CalledZip\":\"\",\"CallStatus\":\"in-progress\",\"CalledCity\":\"\",\"From\":\"+19728853362\",\"AccountSid\":\"AC28bdfb8653b61c615c86ad8ba781d389\",\"CalledCountry\":\"IN\",\"CallerCity\":\"PALMER\",\"Caller\":\"+19728853362\",\"FromCountry\":\"US\",\"ToCity\":\"\",\"FromCity\":\"PALMER\",\"CalledState\":\"\",\"FromZip\":\"75234\",\"FromState\":\"TX\"}},\"response\":{\"status_code\":null,\"headers\":{\"x-envoy-upstream-service-time\":\"4986\",\"x-amzn-trace-id\":\"root=1-65843f22-6f05697c746f1f2458a9ba89;sampled=0;lineage=fc87716e:0\",\"Server\":\"envoy\",\"x-amzn-requestid\":\"d6fd72fb-a0a6-414d-a2e2-8fa704caec34\",\"Content-Length\":\"56\",\"x-twilio-webhookattempt\":\"1\",\"Date\":\"Thu, 21 Dec 2023 13:35:35 GMT\",\"Content-Type\":\"application/json\"},\"body\":\"\\\\\"<?xml version=\\\\\\\\\\\\\"1.0\\\\\\\\\\\\\" encoding=\\\\\\\\\\\\\"UTF-8\\\\\\\\\\\\\"?><Response />\\\\\"\"}}}', 'Level': 'ERROR', 'Timestamp': '2023-12-21T13:35:35.145133Z', 'PayloadType': 'application/json', 'AccountSid': 'AC28bdfb8653b61c615c86ad8ba781d389', 'Sid': 'NO34c16f97059d2403b3ade6effe6cae6a'}\t"
   ]
  },
  {
   "cell_type": "code",
   "execution_count": null,
   "metadata": {},
   "outputs": [],
   "source": [
    "{'Payload': '{\"resource_sid\":\"CAe75dacd790cf9a84b465855ac0433e4a\",\"service_sid\":null,\"error_code\":\"12300\",\"more_info\":{\"Msg\":\"Invalid Content-Type\",\"ErrorCode\":\"12300\",\"contentType\":\"application/json\",\"url\":\"https://ztzj42tnsmthrjdg2xdinstwce0zqdqa.lambda-url.us-east-1.on.aws/\",\"LogLevel\":\"ERROR\"},\"webhook\":{\"type\":\"application/json\",\"request\":{\"url\":\"https://ztzj42tnsmthrjdg2xdinstwce0zqdqa.lambda-url.us-east-1.on.aws/\",\"method\":\"POST\",\"headers\":{},\"parameters\":{\"Called\":\"+919305682414\",\"ToState\":\"Uttar Pradesh (East)\",\"CallerCountry\":\"US\",\"Direction\":\"outbound-api\",\"SpeechResult\":\"Hi, how are you?\",\"Language\":\"en-US\",\"CallerState\":\"TX\",\"Confidence\":\"0.8058018\",\"ToZip\":\"\",\"To\":\"+919305682414\",\"CallSid\":\"CAe75dacd790cf9a84b465855ac0433e4a\",\"ToCountry\":\"IN\",\"CallerZip\":\"75234\",\"ApiVersion\":\"2010-04-01\",\"CalledZip\":\"\",\"CallStatus\":\"in-progress\",\"CalledCity\":\"\",\"From\":\"+19728853362\",\"AccountSid\":\"AC28bdfb8653b61c615c86ad8ba781d389\",\"CalledCountry\":\"IN\",\"CallerCity\":\"PALMER\",\"Caller\":\"+19728853362\",\"FromCountry\":\"US\",\"ToCity\":\"\",\"FromCity\":\"PALMER\",\"CalledState\":\"Uttar Pradesh (East)\",\"FromZip\":\"75234\",\"FromState\":\"TX\"}},\"response\":{\"status_code\":null,\"headers\":{\"x-envoy-upstream-service-time\":\"4049\",\"x-amzn-trace-id\":\"root=1-658441e2-303997f95214a7b220da72db;sampled=0;lineage=fc87716e:0\",\"Server\":\"envoy\",\"x-amzn-requestid\":\"e24bb9fa-a81d-474d-bf00-c15d18c13f89\",\"Content-Length\":\"341\",\"x-twilio-webhookattempt\":\"1\",\"Date\":\"Thu, 21 Dec 2023 13:47:18 GMT\",\"Content-Type\":\"application/json\"},\"body\":\"<?xml version=\\\\\"1.0\\\\\" encoding=\\\\\"UTF-8\\\\\"?><Response><Gather enhanced=\\\\\"true\\\\\" input=\\\\\"speech\\\\\" speechModel=\\\\\"phone_call\\\\\" speechTimeout=\\\\\"auto\\\\\" timeout=\\\\\"4\\\\\"><Say voice=\\\\\"Polly.Joanna-Neural\\\\\">Hi there! I\\'m just a digital assistant, so I don\\'t have feelings, but I\\'m here and ready to help you with any questions or tasks you have</Say></Gather></Response>\"}}}', 'Level': 'ERROR', 'Timestamp': '2023-12-21T13:47:18.426084Z', 'PayloadType': 'application/json', 'AccountSid': 'AC28bdfb8653b61c615c86ad8ba781d389', 'Sid': 'NOa8a1d726d50c1e00d33a11ad10a34da7'}\t"
   ]
  }
 ],
 "metadata": {
  "kernelspec": {
   "display_name": "env",
   "language": "python",
   "name": "python3"
  },
  "language_info": {
   "codemirror_mode": {
    "name": "ipython",
    "version": 3
   },
   "file_extension": ".py",
   "mimetype": "text/x-python",
   "name": "python",
   "nbconvert_exporter": "python",
   "pygments_lexer": "ipython3",
   "version": "3.11.4"
  }
 },
 "nbformat": 4,
 "nbformat_minor": 2
}
